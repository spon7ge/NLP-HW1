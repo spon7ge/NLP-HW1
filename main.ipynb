{
 "cells": [
  {
   "cell_type": "code",
   "execution_count": 1,
   "id": "e3f8266a",
   "metadata": {},
   "outputs": [],
   "source": [
    "import pandas as pd \n",
    "import numpy as np "
   ]
  },
  {
   "cell_type": "markdown",
   "id": "7c3e39ec",
   "metadata": {},
   "source": [
    "#### 1. Evaluation Metrics ####"
   ]
  },
  {
   "cell_type": "code",
   "execution_count": null,
   "id": "2f96d3fc",
   "metadata": {},
   "outputs": [],
   "source": [
    "## Input: y_pred, a list of length n with the predicted labels,\n",
    "## y_true, a list of length n with the true labels\n",
    "\n",
    "## Calculates the precision of the predicted labels\n",
    "def get_precision(y_pred, y_true):\n",
    "    truePos, falsePos = 0, 0\n",
    "    for i,j in zip(y_pred, y_true):\n",
    "        if i == 1 and j == 1:\n",
    "            truePos += 1\n",
    "        elif i == 1 and j == 0:\n",
    "            falsePos += 1\n",
    "            \n",
    "    if truePos + falsePos == 0: #incase there are no true positives or false positives\n",
    "        return 0\n",
    "    \n",
    "    precision = truePos/(truePos + falsePos)\n",
    "    return precision\n",
    "    \n",
    "## Calculates the recall of the predicted labels\n",
    "def get_recall(y_pred, y_true): #TP/(TP + FN)\n",
    "    truePos, falseNeg = 0, 0\n",
    "    \n",
    "    for i,j in zip(y_pred, y_true):\n",
    "        \n",
    "\n",
    "    return recall\n",
    "\n",
    "## Calculates the f-score of the predicted labels\n",
    "def get_fscore(y_pred, y_true):\n",
    "    ## YOUR CODE HERE...\n",
    "\n",
    "    return fscore"
   ]
  }
 ],
 "metadata": {
  "kernelspec": {
   "display_name": "Python 3",
   "language": "python",
   "name": "python3"
  },
  "language_info": {
   "codemirror_mode": {
    "name": "ipython",
    "version": 3
   },
   "file_extension": ".py",
   "mimetype": "text/x-python",
   "name": "python",
   "nbconvert_exporter": "python",
   "pygments_lexer": "ipython3",
   "version": "3.10.1"
  }
 },
 "nbformat": 4,
 "nbformat_minor": 5
}
