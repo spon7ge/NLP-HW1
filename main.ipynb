{
 "cells": [
  {
   "cell_type": "code",
   "execution_count": 2,
   "id": "e3f8266a",
   "metadata": {},
   "outputs": [],
   "source": [
    "import pandas as pd \n",
    "import numpy as np "
   ]
  },
  {
   "cell_type": "markdown",
   "id": "7c3e39ec",
   "metadata": {},
   "source": [
    "#### 1. Evaluation Metrics ####"
   ]
  },
  {
   "cell_type": "code",
   "execution_count": 4,
   "id": "2f96d3fc",
   "metadata": {},
   "outputs": [],
   "source": [
    "## Input: y_pred, a list of length n with the predicted labels,\n",
    "## y_true, a list of length n with the true labels\n",
    "#                Predicted\n",
    "#              |   0   |   1\n",
    "# Actual  0    |  TN   |  FP\n",
    "#         1    |  FN   |  TP\n",
    "\n",
    "## Calculates the precision of the predicted labels\n",
    "def get_precision(y_pred, y_true):\n",
    "    truePos, falsePos = 0, 0\n",
    "    for i,j in zip(y_pred, y_true):\n",
    "        if i == 1 and j == 1:\n",
    "            truePos += 1\n",
    "        elif i == 1 and j == 0:\n",
    "            falsePos += 1\n",
    "            \n",
    "    if truePos + falsePos == 0: #incase there are no true positives or false positives\n",
    "        return 0\n",
    "    \n",
    "    precision = truePos/(truePos + falsePos)\n",
    "    return precision\n",
    "    \n",
    "## Calculates the recall of the predicted labels\n",
    "def get_recall(y_pred, y_true): #TP/(TP + FN)\n",
    "    truePos, falseNeg = 0, 0\n",
    "    \n",
    "    for i,j in zip(y_pred, y_true):\n",
    "        if i == 1 and j == 1:\n",
    "            truePos += 1\n",
    "        elif i == 0 and j == 1:\n",
    "            falseNeg += 1\n",
    "    recall = truePos/(truePos+falseNeg)\n",
    "    return recall\n",
    "\n",
    "## Calculates the f-score of the predicted labels\n",
    "def get_fscore(y_pred, y_true): #TP/(TP + 1/2(FP + FN))\n",
    "    truePos, falsePos, falseNeg = 0, 0, 0\n",
    "    for i, j in zip(y_pred,y_true):\n",
    "        if i == 1 and j == 1:\n",
    "            truePos += 1\n",
    "        elif i == 1 and j == 0:\n",
    "            falsePos += 1\n",
    "        elif i == 0 and j == 1:\n",
    "            falseNeg += 1\n",
    "    if truePos == 0:\n",
    "        return 0\n",
    "    fscore = truePos/(truePos + 0.5 * (falsePos + falseNeg))\n",
    "    return fscore"
   ]
  },
  {
   "cell_type": "markdown",
   "id": "1cf9ff6e",
   "metadata": {},
   "source": [
    "#### 2. Complex Word Identification ####"
   ]
  },
  {
   "cell_type": "code",
   "execution_count": null,
   "id": "d7c9b87c",
   "metadata": {},
   "outputs": [],
   "source": [
    "def load_file(data_file):\n",
    "    words = []\n",
    "    labels = []   \n",
    "    with open(data_file, 'rt', encoding=\"utf8\") as f:\n",
    "        i = 0\n",
    "        for line in f:\n",
    "            if i > 0:\n",
    "                line_split = line[:-1].split(\"\\t\")\n",
    "                words.append(line_split[0].lower())\n",
    "                labels.append(int(line_split[1]))\n",
    "            i += 1\n",
    "    return words, labels\n",
    "\n",
    "## Makes feature matrix for all complex\n",
    "def all_complex_feature(words):\n",
    "    res = []\n",
    "\n",
    "    for i,j in zip(words[0],words[1]):\n",
    "        res.append([j])\n",
    "    return res\n",
    "\n",
    "## Labels every word complex\n",
    "def all_complex(data_file):\n",
    "    ## YOUR CODE HERE...\n",
    "    words, labels = load_file(data_file)\n",
    "    pred = [1] * len(words)\n",
    "\n",
    "    # metrics\n",
    "    precision = get_precision(pred, labels)\n",
    "    recall = get_recall(pred, labels)\n",
    "    fscore = get_fscore(pred, labels)\n",
    "\n",
    "    performance = [precision, recall, fscore]\n",
    "    return performance\n",
    "\n",
    "\n",
    "# ### 2.2: Word length thresholding\n",
    "\n",
    "## Makes feature matrix for word_length_threshold\n",
    "def length_threshold_feature(words, threshold):\n",
    "    res = []\n",
    "    for word in words:\n",
    "        if len(word) >= threshold:\n",
    "            res.append([1])\n",
    "        else:\n",
    "            res.append([0])\n",
    "    return res\n",
    "\n",
    "## Finds the best length threshold by f-score, and uses this threshold to\n",
    "## classify the training and development set\n",
    "def word_length_threshold(training_file, development_file):\n",
    "    ## YOUR CODE HERE\n",
    "    words, labels = load_file(training_file)\n",
    "\n",
    "\n",
    "\n",
    "    training_performance = [tprecision, trecall, tfscore]\n",
    "    development_performance = [dprecision, drecall, dfscore]\n",
    "    return training_performance, development_performance"
   ]
  },
  {
   "cell_type": "markdown",
   "id": "c9a0c2ec",
   "metadata": {},
   "source": [
    "### 2.3: Naive Bayes"
   ]
  },
  {
   "cell_type": "code",
   "execution_count": null,
   "id": "2aa47755",
   "metadata": {},
   "outputs": [],
   "source": [
    "## Trains a Naive Bayes classifier using length and frequency features\n",
    "def naive_bayes(training_file, development_file, counts):\n",
    "    ## YOUR CODE HERE\n",
    "    training_performance = (tprecision, trecall, tfscore)\n",
    "    development_performance = (dprecision, drecall, dfscore)\n",
    "    return development_performance"
   ]
  },
  {
   "cell_type": "markdown",
   "id": "7ba52c36",
   "metadata": {},
   "source": [
    "### 2.4: Logistic Regression"
   ]
  },
  {
   "cell_type": "code",
   "execution_count": null,
   "id": "2826d097",
   "metadata": {},
   "outputs": [],
   "source": [
    "def logistic_regression(training_file, development_file, counts):\n",
    "    ## YOUR CODE HERE    \n",
    "    training_performance = (tprecision, trecall, tfscore)\n",
    "    development_performance = (dprecision, drecall, dfscore)\n",
    "    return development_performance"
   ]
  },
  {
   "cell_type": "markdown",
   "id": "d2d3c348",
   "metadata": {},
   "source": [
    "### 2.7: Build your own classifier"
   ]
  },
  {
   "cell_type": "markdown",
   "id": "7ad0c54d",
   "metadata": {},
   "source": []
  },
  {
   "cell_type": "code",
   "execution_count": null,
   "id": "8f6f2f1b",
   "metadata": {},
   "outputs": [],
   "source": [
    "if __name__ == \"__main__\":\n",
    "    training_file = \"data/complex_words_training.txt\"\n",
    "    development_file = \"data/complex_words_development.txt\"\n",
    "    test_file = \"data/complex_words_test_unlabeled.txt\"\n",
    "\n",
    "    train_data = load_file(training_file)"
   ]
  }
 ],
 "metadata": {
  "kernelspec": {
   "display_name": "Python 3",
   "language": "python",
   "name": "python3"
  },
  "language_info": {
   "codemirror_mode": {
    "name": "ipython",
    "version": 3
   },
   "file_extension": ".py",
   "mimetype": "text/x-python",
   "name": "python",
   "nbconvert_exporter": "python",
   "pygments_lexer": "ipython3",
   "version": "3.10.0"
  }
 },
 "nbformat": 4,
 "nbformat_minor": 5
}
